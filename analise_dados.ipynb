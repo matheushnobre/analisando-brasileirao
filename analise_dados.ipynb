{
 "cells": [
  {
   "cell_type": "code",
   "execution_count": 127,
   "id": "bb0eaea6-9efe-490a-9e27-def644842a5c",
   "metadata": {
    "tags": []
   },
   "outputs": [],
   "source": [
    "# Importando bibliotecas\n",
    "import pandas as pd\n",
    "import matplotlib.pyplot as plt\n",
    "import numpy as np"
   ]
  },
  {
   "cell_type": "code",
   "execution_count": null,
   "id": "9a82d180-1d6b-4fb4-a1f9-2526de4a79bc",
   "metadata": {},
   "outputs": [],
   "source": [
    "# Lendo arquivo csv e armazenando-o a variável dados\n",
    "dados = pd.read_csv('datasets\\campeonato-brasileiro-full.csv')"
   ]
  },
  {
   "cell_type": "code",
   "execution_count": 2,
   "id": "e237b3d8-4d8d-439d-a03f-b4a98fa67a26",
   "metadata": {
    "tags": []
   },
   "outputs": [
    {
     "data": {
      "text/html": [
       "<div>\n",
       "<style scoped>\n",
       "    .dataframe tbody tr th:only-of-type {\n",
       "        vertical-align: middle;\n",
       "    }\n",
       "\n",
       "    .dataframe tbody tr th {\n",
       "        vertical-align: top;\n",
       "    }\n",
       "\n",
       "    .dataframe thead th {\n",
       "        text-align: right;\n",
       "    }\n",
       "</style>\n",
       "<table border=\"1\" class=\"dataframe\">\n",
       "  <thead>\n",
       "    <tr style=\"text-align: right;\">\n",
       "      <th></th>\n",
       "      <th>ID</th>\n",
       "      <th>rodata</th>\n",
       "      <th>data</th>\n",
       "      <th>hora</th>\n",
       "      <th>mandante</th>\n",
       "      <th>visitante</th>\n",
       "      <th>formacao_mandante</th>\n",
       "      <th>formacao_visitante</th>\n",
       "      <th>tecnico_mandante</th>\n",
       "      <th>tecnico_visitante</th>\n",
       "      <th>vencedor</th>\n",
       "      <th>arena</th>\n",
       "      <th>mandante_Placar</th>\n",
       "      <th>visitante_Placar</th>\n",
       "      <th>mandante_Estado</th>\n",
       "      <th>visitante_Estado</th>\n",
       "    </tr>\n",
       "  </thead>\n",
       "  <tbody>\n",
       "    <tr>\n",
       "      <th>0</th>\n",
       "      <td>1</td>\n",
       "      <td>1</td>\n",
       "      <td>29/03/2003</td>\n",
       "      <td>16:00</td>\n",
       "      <td>Guarani</td>\n",
       "      <td>Vasco</td>\n",
       "      <td>NaN</td>\n",
       "      <td>NaN</td>\n",
       "      <td>NaN</td>\n",
       "      <td>NaN</td>\n",
       "      <td>Guarani</td>\n",
       "      <td>Brinco de Ouro</td>\n",
       "      <td>4</td>\n",
       "      <td>2</td>\n",
       "      <td>SP</td>\n",
       "      <td>RJ</td>\n",
       "    </tr>\n",
       "    <tr>\n",
       "      <th>1</th>\n",
       "      <td>2</td>\n",
       "      <td>1</td>\n",
       "      <td>29/03/2003</td>\n",
       "      <td>16:00</td>\n",
       "      <td>Athletico-PR</td>\n",
       "      <td>Gremio</td>\n",
       "      <td>NaN</td>\n",
       "      <td>NaN</td>\n",
       "      <td>NaN</td>\n",
       "      <td>NaN</td>\n",
       "      <td>Athletico-PR</td>\n",
       "      <td>Arena da Baixada</td>\n",
       "      <td>2</td>\n",
       "      <td>0</td>\n",
       "      <td>PR</td>\n",
       "      <td>RS</td>\n",
       "    </tr>\n",
       "    <tr>\n",
       "      <th>2</th>\n",
       "      <td>3</td>\n",
       "      <td>1</td>\n",
       "      <td>30/03/2003</td>\n",
       "      <td>16:00</td>\n",
       "      <td>Flamengo</td>\n",
       "      <td>Coritiba</td>\n",
       "      <td>NaN</td>\n",
       "      <td>NaN</td>\n",
       "      <td>NaN</td>\n",
       "      <td>NaN</td>\n",
       "      <td>-</td>\n",
       "      <td>Maracanã</td>\n",
       "      <td>1</td>\n",
       "      <td>1</td>\n",
       "      <td>RJ</td>\n",
       "      <td>PR</td>\n",
       "    </tr>\n",
       "    <tr>\n",
       "      <th>3</th>\n",
       "      <td>4</td>\n",
       "      <td>1</td>\n",
       "      <td>30/03/2003</td>\n",
       "      <td>16:00</td>\n",
       "      <td>Goias</td>\n",
       "      <td>Paysandu</td>\n",
       "      <td>NaN</td>\n",
       "      <td>NaN</td>\n",
       "      <td>NaN</td>\n",
       "      <td>NaN</td>\n",
       "      <td>-</td>\n",
       "      <td>Serra Dourada</td>\n",
       "      <td>2</td>\n",
       "      <td>2</td>\n",
       "      <td>GO</td>\n",
       "      <td>PA</td>\n",
       "    </tr>\n",
       "    <tr>\n",
       "      <th>4</th>\n",
       "      <td>5</td>\n",
       "      <td>1</td>\n",
       "      <td>30/03/2003</td>\n",
       "      <td>16:00</td>\n",
       "      <td>Internacional</td>\n",
       "      <td>Ponte Preta</td>\n",
       "      <td>NaN</td>\n",
       "      <td>NaN</td>\n",
       "      <td>NaN</td>\n",
       "      <td>NaN</td>\n",
       "      <td>-</td>\n",
       "      <td>Beira Rio</td>\n",
       "      <td>1</td>\n",
       "      <td>1</td>\n",
       "      <td>RS</td>\n",
       "      <td>SP</td>\n",
       "    </tr>\n",
       "    <tr>\n",
       "      <th>...</th>\n",
       "      <td>...</td>\n",
       "      <td>...</td>\n",
       "      <td>...</td>\n",
       "      <td>...</td>\n",
       "      <td>...</td>\n",
       "      <td>...</td>\n",
       "      <td>...</td>\n",
       "      <td>...</td>\n",
       "      <td>...</td>\n",
       "      <td>...</td>\n",
       "      <td>...</td>\n",
       "      <td>...</td>\n",
       "      <td>...</td>\n",
       "      <td>...</td>\n",
       "      <td>...</td>\n",
       "      <td>...</td>\n",
       "    </tr>\n",
       "    <tr>\n",
       "      <th>8400</th>\n",
       "      <td>8401</td>\n",
       "      <td>38</td>\n",
       "      <td>06/12/2023</td>\n",
       "      <td>21:32</td>\n",
       "      <td>Bahia</td>\n",
       "      <td>Atletico-MG</td>\n",
       "      <td>3-4-2-1</td>\n",
       "      <td>4-4-2</td>\n",
       "      <td>R. Ceni</td>\n",
       "      <td>L. Scolari</td>\n",
       "      <td>Bahia</td>\n",
       "      <td>Itaipava Arena Fonte Nova</td>\n",
       "      <td>4</td>\n",
       "      <td>1</td>\n",
       "      <td>BA</td>\n",
       "      <td>MG</td>\n",
       "    </tr>\n",
       "    <tr>\n",
       "      <th>8401</th>\n",
       "      <td>8402</td>\n",
       "      <td>38</td>\n",
       "      <td>06/12/2023</td>\n",
       "      <td>21:32</td>\n",
       "      <td>Cuiaba</td>\n",
       "      <td>Athletico-PR</td>\n",
       "      <td>5-3-2</td>\n",
       "      <td>3-4-3</td>\n",
       "      <td>A. Cardoso de Oliveira</td>\n",
       "      <td>W. Carvalho</td>\n",
       "      <td>Cuiaba</td>\n",
       "      <td>Arena Pantanal</td>\n",
       "      <td>3</td>\n",
       "      <td>0</td>\n",
       "      <td>MT</td>\n",
       "      <td>PR</td>\n",
       "    </tr>\n",
       "    <tr>\n",
       "      <th>8402</th>\n",
       "      <td>8403</td>\n",
       "      <td>38</td>\n",
       "      <td>06/12/2023</td>\n",
       "      <td>21:32</td>\n",
       "      <td>Santos</td>\n",
       "      <td>Fortaleza</td>\n",
       "      <td>3-4-1-2</td>\n",
       "      <td>4-2-3-1</td>\n",
       "      <td>M. Fernandes</td>\n",
       "      <td>J. Vojvoda</td>\n",
       "      <td>Fortaleza</td>\n",
       "      <td>Estádio Urbano Caldeira</td>\n",
       "      <td>1</td>\n",
       "      <td>2</td>\n",
       "      <td>SP</td>\n",
       "      <td>CE</td>\n",
       "    </tr>\n",
       "    <tr>\n",
       "      <th>8403</th>\n",
       "      <td>8404</td>\n",
       "      <td>38</td>\n",
       "      <td>06/12/2023</td>\n",
       "      <td>21:32</td>\n",
       "      <td>Sao Paulo</td>\n",
       "      <td>Flamengo</td>\n",
       "      <td>4-2-3-1</td>\n",
       "      <td>4-2-3-1</td>\n",
       "      <td>D. Silvestre Júnior</td>\n",
       "      <td>A. Bacchi</td>\n",
       "      <td>Sao Paulo</td>\n",
       "      <td>Morumbi</td>\n",
       "      <td>1</td>\n",
       "      <td>0</td>\n",
       "      <td>SP</td>\n",
       "      <td>RJ</td>\n",
       "    </tr>\n",
       "    <tr>\n",
       "      <th>8404</th>\n",
       "      <td>8405</td>\n",
       "      <td>38</td>\n",
       "      <td>06/12/2023</td>\n",
       "      <td>21:32</td>\n",
       "      <td>Vasco</td>\n",
       "      <td>Bragantino</td>\n",
       "      <td>4-4-2</td>\n",
       "      <td>4-3-3</td>\n",
       "      <td>R. Díaz</td>\n",
       "      <td>P. Faria Caixinha</td>\n",
       "      <td>Vasco</td>\n",
       "      <td>Estádio São Januário</td>\n",
       "      <td>2</td>\n",
       "      <td>1</td>\n",
       "      <td>RJ</td>\n",
       "      <td>SP</td>\n",
       "    </tr>\n",
       "  </tbody>\n",
       "</table>\n",
       "<p>8405 rows × 16 columns</p>\n",
       "</div>"
      ],
      "text/plain": [
       "        ID  rodata        data   hora       mandante     visitante  \\\n",
       "0        1       1  29/03/2003  16:00        Guarani         Vasco   \n",
       "1        2       1  29/03/2003  16:00   Athletico-PR        Gremio   \n",
       "2        3       1  30/03/2003  16:00       Flamengo      Coritiba   \n",
       "3        4       1  30/03/2003  16:00          Goias      Paysandu   \n",
       "4        5       1  30/03/2003  16:00  Internacional   Ponte Preta   \n",
       "...    ...     ...         ...    ...            ...           ...   \n",
       "8400  8401      38  06/12/2023  21:32          Bahia   Atletico-MG   \n",
       "8401  8402      38  06/12/2023  21:32         Cuiaba  Athletico-PR   \n",
       "8402  8403      38  06/12/2023  21:32         Santos     Fortaleza   \n",
       "8403  8404      38  06/12/2023  21:32      Sao Paulo      Flamengo   \n",
       "8404  8405      38  06/12/2023  21:32          Vasco    Bragantino   \n",
       "\n",
       "     formacao_mandante formacao_visitante        tecnico_mandante  \\\n",
       "0                  NaN                NaN                     NaN   \n",
       "1                  NaN                NaN                     NaN   \n",
       "2                  NaN                NaN                     NaN   \n",
       "3                  NaN                NaN                     NaN   \n",
       "4                  NaN                NaN                     NaN   \n",
       "...                ...                ...                     ...   \n",
       "8400           3-4-2-1              4-4-2                 R. Ceni   \n",
       "8401             5-3-2              3-4-3  A. Cardoso de Oliveira   \n",
       "8402           3-4-1-2            4-2-3-1            M. Fernandes   \n",
       "8403           4-2-3-1            4-2-3-1     D. Silvestre Júnior   \n",
       "8404             4-4-2              4-3-3                 R. Díaz   \n",
       "\n",
       "      tecnico_visitante      vencedor                      arena  \\\n",
       "0                   NaN       Guarani             Brinco de Ouro   \n",
       "1                   NaN  Athletico-PR           Arena da Baixada   \n",
       "2                   NaN             -                   Maracanã   \n",
       "3                   NaN             -              Serra Dourada   \n",
       "4                   NaN             -                  Beira Rio   \n",
       "...                 ...           ...                        ...   \n",
       "8400         L. Scolari         Bahia  Itaipava Arena Fonte Nova   \n",
       "8401        W. Carvalho        Cuiaba             Arena Pantanal   \n",
       "8402         J. Vojvoda     Fortaleza    Estádio Urbano Caldeira   \n",
       "8403          A. Bacchi     Sao Paulo                    Morumbi   \n",
       "8404  P. Faria Caixinha         Vasco       Estádio São Januário   \n",
       "\n",
       "      mandante_Placar  visitante_Placar mandante_Estado visitante_Estado  \n",
       "0                   4                 2              SP               RJ  \n",
       "1                   2                 0              PR               RS  \n",
       "2                   1                 1              RJ               PR  \n",
       "3                   2                 2              GO               PA  \n",
       "4                   1                 1              RS               SP  \n",
       "...               ...               ...             ...              ...  \n",
       "8400                4                 1              BA               MG  \n",
       "8401                3                 0              MT               PR  \n",
       "8402                1                 2              SP               CE  \n",
       "8403                1                 0              SP               RJ  \n",
       "8404                2                 1              RJ               SP  \n",
       "\n",
       "[8405 rows x 16 columns]"
      ]
     },
     "metadata": {},
     "output_type": "display_data"
    }
   ],
   "source": [
    "# Exibindo o dataset\n",
    "display(dados)"
   ]
  },
  {
   "cell_type": "markdown",
   "id": "b4d3cae9-4b26-417d-95de-01c98d99e830",
   "metadata": {},
   "source": [
    "**EDITANDO O DATASET**"
   ]
  },
  {
   "cell_type": "code",
   "execution_count": 3,
   "id": "e63d5830-2cb4-4b98-90d9-8648e16dd81a",
   "metadata": {
    "tags": []
   },
   "outputs": [],
   "source": [
    "# Percebemos que a coluna rodata está escrita de forma errada. Vamos renomeá-la para rodada\n",
    "dados.rename(columns={'rodata': 'rodada'}, inplace=True)\n",
    "\n",
    "# Também vamos renomear algumas outras colunas\n",
    "dados.rename(columns={'mandante_Placar': 'mandante_placar'}, inplace=True)\n",
    "dados.rename(columns={'visitante_Placar': 'visitante_placar'}, inplace=True)\n",
    "dados.rename(columns={'mandante_Estado': 'mandante_estado'}, inplace=True)\n",
    "dados.rename(columns={'visitante_Estado': 'visitante_estado'}, inplace=True)\n",
    "\n",
    "# Da mesma forma, vamos excluir a coluna ID pois não será necessária, visto que já temos os índices do dataframe\n",
    "del dados['ID']"
   ]
  },
  {
   "cell_type": "code",
   "execution_count": 4,
   "id": "24e82057-44dd-4578-93fa-8452be8e6f6e",
   "metadata": {
    "tags": []
   },
   "outputs": [
    {
     "name": "stdout",
     "output_type": "stream",
     "text": [
      "<class 'pandas.core.frame.DataFrame'>\n",
      "RangeIndex: 8405 entries, 0 to 8404\n",
      "Data columns (total 15 columns):\n",
      " #   Column              Non-Null Count  Dtype \n",
      "---  ------              --------------  ----- \n",
      " 0   rodada              8405 non-null   int64 \n",
      " 1   data                8405 non-null   object\n",
      " 2   hora                8405 non-null   object\n",
      " 3   mandante            8405 non-null   object\n",
      " 4   visitante           8405 non-null   object\n",
      " 5   formacao_mandante   3431 non-null   object\n",
      " 6   formacao_visitante  3431 non-null   object\n",
      " 7   tecnico_mandante    3795 non-null   object\n",
      " 8   tecnico_visitante   3795 non-null   object\n",
      " 9   vencedor            8405 non-null   object\n",
      " 10  arena               8405 non-null   object\n",
      " 11  mandante_placar     8405 non-null   int64 \n",
      " 12  visitante_placar    8405 non-null   int64 \n",
      " 13  mandante_estado     8405 non-null   object\n",
      " 14  visitante_estado    8405 non-null   object\n",
      "dtypes: int64(3), object(12)\n",
      "memory usage: 985.1+ KB\n"
     ]
    }
   ],
   "source": [
    "dados.info()"
   ]
  },
  {
   "cell_type": "code",
   "execution_count": 5,
   "id": "27a7737a-3464-4c35-9cab-5d6e45f68da6",
   "metadata": {
    "tags": []
   },
   "outputs": [],
   "source": [
    "# Convertendo coluna data para datetime\n",
    "dados['data'] = pd.to_datetime(dados['data'], dayfirst=True) "
   ]
  },
  {
   "cell_type": "code",
   "execution_count": 6,
   "id": "0eb32f05-ab3d-4155-9dc0-90d4d1b750a7",
   "metadata": {
    "tags": []
   },
   "outputs": [],
   "source": [
    "# Criando nova coluna no dataframe para armazenar o dia da semana em que a partida foi realizada\n",
    "dados.insert(2, 'dia da semana', dados['data'].dt.dayofweek)\n",
    "\n",
    "# Mapeando os números para os nomes dos dias da semana\n",
    "dados['dia da semana'] = dados['dia da semana'].map({0: 'Segunda-feira', 1: 'Terça-feira', 2: 'Quarta-feira', 3: 'Quinta-feira', 4: 'Sexta-feira', 5: 'Sábado', 6: 'Domingo'})"
   ]
  },
  {
   "cell_type": "code",
   "execution_count": 7,
   "id": "706ecc9d-5a44-4273-93af-5a1afcc054c8",
   "metadata": {
    "tags": []
   },
   "outputs": [],
   "source": [
    "# Alterando para 'Empate' os valores '-' na coluna vencedor\n",
    "dados['vencedor'] = dados['vencedor'].replace('-', 'Empate')"
   ]
  },
  {
   "cell_type": "code",
   "execution_count": 8,
   "id": "b30c5b8b-7bb8-4d35-8b3e-3e60efaec2b6",
   "metadata": {
    "tags": []
   },
   "outputs": [],
   "source": [
    "# Definindo função que retorna o perdedor da partida\n",
    "def retornar_perdedor(mandante, visitante, vencedor):\n",
    "    if vencedor == mandante:\n",
    "        return visitante\n",
    "    elif vencedor == visitante:\n",
    "        return mandante\n",
    "    else:\n",
    "        return 'Empate'\n",
    "    \n",
    "perdedores = []\n",
    "# Criando coluna perdedor\n",
    "for linha in range(dados.shape[0]):\n",
    "    perdedores.append(retornar_perdedor(dados['mandante'][linha], dados['visitante'][linha], dados['vencedor'][linha]))\n",
    "    \n",
    "dados.insert(11, 'perdedor', perdedores)"
   ]
  },
  {
   "cell_type": "code",
   "execution_count": 9,
   "id": "d5d481d0-18a5-400e-92b5-2e4a1d55efde",
   "metadata": {
    "tags": []
   },
   "outputs": [],
   "source": [
    "# Inserindo coluna que armazena a qual edição do campeonato pertence o jogo\n",
    "dados.insert(17, 'edição', dados['data'].dt.year)\n",
    "\n",
    "# Tratando casos dos jogos da edição de 2020 que foram realizados em 2021 devido a pandemia\n",
    "condicao = (dados['data'].dt.year == 2021) & (dados['data'].dt.month <=2)\n",
    "dados.loc[condicao, 'edição'] = 2020"
   ]
  },
  {
   "cell_type": "code",
   "execution_count": 10,
   "id": "a55abb81-5cd0-4ea9-842a-ad9661ad83dc",
   "metadata": {},
   "outputs": [
    {
     "data": {
      "text/html": [
       "<div>\n",
       "<style scoped>\n",
       "    .dataframe tbody tr th:only-of-type {\n",
       "        vertical-align: middle;\n",
       "    }\n",
       "\n",
       "    .dataframe tbody tr th {\n",
       "        vertical-align: top;\n",
       "    }\n",
       "\n",
       "    .dataframe thead th {\n",
       "        text-align: right;\n",
       "    }\n",
       "</style>\n",
       "<table border=\"1\" class=\"dataframe\">\n",
       "  <thead>\n",
       "    <tr style=\"text-align: right;\">\n",
       "      <th></th>\n",
       "      <th>rodada</th>\n",
       "      <th>data</th>\n",
       "      <th>dia da semana</th>\n",
       "      <th>hora</th>\n",
       "      <th>mandante</th>\n",
       "      <th>visitante</th>\n",
       "      <th>formacao_mandante</th>\n",
       "      <th>formacao_visitante</th>\n",
       "      <th>tecnico_mandante</th>\n",
       "      <th>tecnico_visitante</th>\n",
       "      <th>vencedor</th>\n",
       "      <th>perdedor</th>\n",
       "      <th>arena</th>\n",
       "      <th>mandante_placar</th>\n",
       "      <th>visitante_placar</th>\n",
       "      <th>mandante_estado</th>\n",
       "      <th>visitante_estado</th>\n",
       "      <th>edição</th>\n",
       "    </tr>\n",
       "  </thead>\n",
       "  <tbody>\n",
       "    <tr>\n",
       "      <th>0</th>\n",
       "      <td>1</td>\n",
       "      <td>2003-03-29</td>\n",
       "      <td>Sábado</td>\n",
       "      <td>16:00</td>\n",
       "      <td>Guarani</td>\n",
       "      <td>Vasco</td>\n",
       "      <td>NaN</td>\n",
       "      <td>NaN</td>\n",
       "      <td>NaN</td>\n",
       "      <td>NaN</td>\n",
       "      <td>Guarani</td>\n",
       "      <td>Vasco</td>\n",
       "      <td>Brinco de Ouro</td>\n",
       "      <td>4</td>\n",
       "      <td>2</td>\n",
       "      <td>SP</td>\n",
       "      <td>RJ</td>\n",
       "      <td>2003</td>\n",
       "    </tr>\n",
       "    <tr>\n",
       "      <th>1</th>\n",
       "      <td>1</td>\n",
       "      <td>2003-03-29</td>\n",
       "      <td>Sábado</td>\n",
       "      <td>16:00</td>\n",
       "      <td>Athletico-PR</td>\n",
       "      <td>Gremio</td>\n",
       "      <td>NaN</td>\n",
       "      <td>NaN</td>\n",
       "      <td>NaN</td>\n",
       "      <td>NaN</td>\n",
       "      <td>Athletico-PR</td>\n",
       "      <td>Gremio</td>\n",
       "      <td>Arena da Baixada</td>\n",
       "      <td>2</td>\n",
       "      <td>0</td>\n",
       "      <td>PR</td>\n",
       "      <td>RS</td>\n",
       "      <td>2003</td>\n",
       "    </tr>\n",
       "    <tr>\n",
       "      <th>2</th>\n",
       "      <td>1</td>\n",
       "      <td>2003-03-30</td>\n",
       "      <td>Domingo</td>\n",
       "      <td>16:00</td>\n",
       "      <td>Flamengo</td>\n",
       "      <td>Coritiba</td>\n",
       "      <td>NaN</td>\n",
       "      <td>NaN</td>\n",
       "      <td>NaN</td>\n",
       "      <td>NaN</td>\n",
       "      <td>Empate</td>\n",
       "      <td>Empate</td>\n",
       "      <td>Maracanã</td>\n",
       "      <td>1</td>\n",
       "      <td>1</td>\n",
       "      <td>RJ</td>\n",
       "      <td>PR</td>\n",
       "      <td>2003</td>\n",
       "    </tr>\n",
       "    <tr>\n",
       "      <th>3</th>\n",
       "      <td>1</td>\n",
       "      <td>2003-03-30</td>\n",
       "      <td>Domingo</td>\n",
       "      <td>16:00</td>\n",
       "      <td>Goias</td>\n",
       "      <td>Paysandu</td>\n",
       "      <td>NaN</td>\n",
       "      <td>NaN</td>\n",
       "      <td>NaN</td>\n",
       "      <td>NaN</td>\n",
       "      <td>Empate</td>\n",
       "      <td>Empate</td>\n",
       "      <td>Serra Dourada</td>\n",
       "      <td>2</td>\n",
       "      <td>2</td>\n",
       "      <td>GO</td>\n",
       "      <td>PA</td>\n",
       "      <td>2003</td>\n",
       "    </tr>\n",
       "    <tr>\n",
       "      <th>4</th>\n",
       "      <td>1</td>\n",
       "      <td>2003-03-30</td>\n",
       "      <td>Domingo</td>\n",
       "      <td>16:00</td>\n",
       "      <td>Internacional</td>\n",
       "      <td>Ponte Preta</td>\n",
       "      <td>NaN</td>\n",
       "      <td>NaN</td>\n",
       "      <td>NaN</td>\n",
       "      <td>NaN</td>\n",
       "      <td>Empate</td>\n",
       "      <td>Empate</td>\n",
       "      <td>Beira Rio</td>\n",
       "      <td>1</td>\n",
       "      <td>1</td>\n",
       "      <td>RS</td>\n",
       "      <td>SP</td>\n",
       "      <td>2003</td>\n",
       "    </tr>\n",
       "    <tr>\n",
       "      <th>...</th>\n",
       "      <td>...</td>\n",
       "      <td>...</td>\n",
       "      <td>...</td>\n",
       "      <td>...</td>\n",
       "      <td>...</td>\n",
       "      <td>...</td>\n",
       "      <td>...</td>\n",
       "      <td>...</td>\n",
       "      <td>...</td>\n",
       "      <td>...</td>\n",
       "      <td>...</td>\n",
       "      <td>...</td>\n",
       "      <td>...</td>\n",
       "      <td>...</td>\n",
       "      <td>...</td>\n",
       "      <td>...</td>\n",
       "      <td>...</td>\n",
       "      <td>...</td>\n",
       "    </tr>\n",
       "    <tr>\n",
       "      <th>8400</th>\n",
       "      <td>38</td>\n",
       "      <td>2023-12-06</td>\n",
       "      <td>Quarta-feira</td>\n",
       "      <td>21:32</td>\n",
       "      <td>Bahia</td>\n",
       "      <td>Atletico-MG</td>\n",
       "      <td>3-4-2-1</td>\n",
       "      <td>4-4-2</td>\n",
       "      <td>R. Ceni</td>\n",
       "      <td>L. Scolari</td>\n",
       "      <td>Bahia</td>\n",
       "      <td>Atletico-MG</td>\n",
       "      <td>Itaipava Arena Fonte Nova</td>\n",
       "      <td>4</td>\n",
       "      <td>1</td>\n",
       "      <td>BA</td>\n",
       "      <td>MG</td>\n",
       "      <td>2023</td>\n",
       "    </tr>\n",
       "    <tr>\n",
       "      <th>8401</th>\n",
       "      <td>38</td>\n",
       "      <td>2023-12-06</td>\n",
       "      <td>Quarta-feira</td>\n",
       "      <td>21:32</td>\n",
       "      <td>Cuiaba</td>\n",
       "      <td>Athletico-PR</td>\n",
       "      <td>5-3-2</td>\n",
       "      <td>3-4-3</td>\n",
       "      <td>A. Cardoso de Oliveira</td>\n",
       "      <td>W. Carvalho</td>\n",
       "      <td>Cuiaba</td>\n",
       "      <td>Athletico-PR</td>\n",
       "      <td>Arena Pantanal</td>\n",
       "      <td>3</td>\n",
       "      <td>0</td>\n",
       "      <td>MT</td>\n",
       "      <td>PR</td>\n",
       "      <td>2023</td>\n",
       "    </tr>\n",
       "    <tr>\n",
       "      <th>8402</th>\n",
       "      <td>38</td>\n",
       "      <td>2023-12-06</td>\n",
       "      <td>Quarta-feira</td>\n",
       "      <td>21:32</td>\n",
       "      <td>Santos</td>\n",
       "      <td>Fortaleza</td>\n",
       "      <td>3-4-1-2</td>\n",
       "      <td>4-2-3-1</td>\n",
       "      <td>M. Fernandes</td>\n",
       "      <td>J. Vojvoda</td>\n",
       "      <td>Fortaleza</td>\n",
       "      <td>Santos</td>\n",
       "      <td>Estádio Urbano Caldeira</td>\n",
       "      <td>1</td>\n",
       "      <td>2</td>\n",
       "      <td>SP</td>\n",
       "      <td>CE</td>\n",
       "      <td>2023</td>\n",
       "    </tr>\n",
       "    <tr>\n",
       "      <th>8403</th>\n",
       "      <td>38</td>\n",
       "      <td>2023-12-06</td>\n",
       "      <td>Quarta-feira</td>\n",
       "      <td>21:32</td>\n",
       "      <td>Sao Paulo</td>\n",
       "      <td>Flamengo</td>\n",
       "      <td>4-2-3-1</td>\n",
       "      <td>4-2-3-1</td>\n",
       "      <td>D. Silvestre Júnior</td>\n",
       "      <td>A. Bacchi</td>\n",
       "      <td>Sao Paulo</td>\n",
       "      <td>Flamengo</td>\n",
       "      <td>Morumbi</td>\n",
       "      <td>1</td>\n",
       "      <td>0</td>\n",
       "      <td>SP</td>\n",
       "      <td>RJ</td>\n",
       "      <td>2023</td>\n",
       "    </tr>\n",
       "    <tr>\n",
       "      <th>8404</th>\n",
       "      <td>38</td>\n",
       "      <td>2023-12-06</td>\n",
       "      <td>Quarta-feira</td>\n",
       "      <td>21:32</td>\n",
       "      <td>Vasco</td>\n",
       "      <td>Bragantino</td>\n",
       "      <td>4-4-2</td>\n",
       "      <td>4-3-3</td>\n",
       "      <td>R. Díaz</td>\n",
       "      <td>P. Faria Caixinha</td>\n",
       "      <td>Vasco</td>\n",
       "      <td>Bragantino</td>\n",
       "      <td>Estádio São Januário</td>\n",
       "      <td>2</td>\n",
       "      <td>1</td>\n",
       "      <td>RJ</td>\n",
       "      <td>SP</td>\n",
       "      <td>2023</td>\n",
       "    </tr>\n",
       "  </tbody>\n",
       "</table>\n",
       "<p>8405 rows × 18 columns</p>\n",
       "</div>"
      ],
      "text/plain": [
       "      rodada       data dia da semana   hora       mandante     visitante  \\\n",
       "0          1 2003-03-29        Sábado  16:00        Guarani         Vasco   \n",
       "1          1 2003-03-29        Sábado  16:00   Athletico-PR        Gremio   \n",
       "2          1 2003-03-30       Domingo  16:00       Flamengo      Coritiba   \n",
       "3          1 2003-03-30       Domingo  16:00          Goias      Paysandu   \n",
       "4          1 2003-03-30       Domingo  16:00  Internacional   Ponte Preta   \n",
       "...      ...        ...           ...    ...            ...           ...   \n",
       "8400      38 2023-12-06  Quarta-feira  21:32          Bahia   Atletico-MG   \n",
       "8401      38 2023-12-06  Quarta-feira  21:32         Cuiaba  Athletico-PR   \n",
       "8402      38 2023-12-06  Quarta-feira  21:32         Santos     Fortaleza   \n",
       "8403      38 2023-12-06  Quarta-feira  21:32      Sao Paulo      Flamengo   \n",
       "8404      38 2023-12-06  Quarta-feira  21:32          Vasco    Bragantino   \n",
       "\n",
       "     formacao_mandante formacao_visitante        tecnico_mandante  \\\n",
       "0                  NaN                NaN                     NaN   \n",
       "1                  NaN                NaN                     NaN   \n",
       "2                  NaN                NaN                     NaN   \n",
       "3                  NaN                NaN                     NaN   \n",
       "4                  NaN                NaN                     NaN   \n",
       "...                ...                ...                     ...   \n",
       "8400           3-4-2-1              4-4-2                 R. Ceni   \n",
       "8401             5-3-2              3-4-3  A. Cardoso de Oliveira   \n",
       "8402           3-4-1-2            4-2-3-1            M. Fernandes   \n",
       "8403           4-2-3-1            4-2-3-1     D. Silvestre Júnior   \n",
       "8404             4-4-2              4-3-3                 R. Díaz   \n",
       "\n",
       "      tecnico_visitante      vencedor      perdedor  \\\n",
       "0                   NaN       Guarani         Vasco   \n",
       "1                   NaN  Athletico-PR        Gremio   \n",
       "2                   NaN        Empate        Empate   \n",
       "3                   NaN        Empate        Empate   \n",
       "4                   NaN        Empate        Empate   \n",
       "...                 ...           ...           ...   \n",
       "8400         L. Scolari         Bahia   Atletico-MG   \n",
       "8401        W. Carvalho        Cuiaba  Athletico-PR   \n",
       "8402         J. Vojvoda     Fortaleza        Santos   \n",
       "8403          A. Bacchi     Sao Paulo      Flamengo   \n",
       "8404  P. Faria Caixinha         Vasco    Bragantino   \n",
       "\n",
       "                          arena  mandante_placar  visitante_placar  \\\n",
       "0                Brinco de Ouro                4                 2   \n",
       "1              Arena da Baixada                2                 0   \n",
       "2                      Maracanã                1                 1   \n",
       "3                 Serra Dourada                2                 2   \n",
       "4                     Beira Rio                1                 1   \n",
       "...                         ...              ...               ...   \n",
       "8400  Itaipava Arena Fonte Nova                4                 1   \n",
       "8401             Arena Pantanal                3                 0   \n",
       "8402    Estádio Urbano Caldeira                1                 2   \n",
       "8403                    Morumbi                1                 0   \n",
       "8404       Estádio São Januário                2                 1   \n",
       "\n",
       "     mandante_estado visitante_estado  edição  \n",
       "0                 SP               RJ    2003  \n",
       "1                 PR               RS    2003  \n",
       "2                 RJ               PR    2003  \n",
       "3                 GO               PA    2003  \n",
       "4                 RS               SP    2003  \n",
       "...              ...              ...     ...  \n",
       "8400              BA               MG    2023  \n",
       "8401              MT               PR    2023  \n",
       "8402              SP               CE    2023  \n",
       "8403              SP               RJ    2023  \n",
       "8404              RJ               SP    2023  \n",
       "\n",
       "[8405 rows x 18 columns]"
      ]
     },
     "metadata": {},
     "output_type": "display_data"
    }
   ],
   "source": [
    "# Visualizando como ficou o dataframe\n",
    "display(dados)"
   ]
  },
  {
   "cell_type": "code",
   "execution_count": 11,
   "id": "453cf365-f0e1-49c7-818b-fa0037fe8d12",
   "metadata": {
    "tags": []
   },
   "outputs": [],
   "source": [
    "# Salvando dataset\n",
    "dados.to_csv('C:/Users/User/ciencia-dados/analisando-brasileirao\\datasets\\campeonato-brasileiro-full-processado.csv', index=False)"
   ]
  },
  {
   "cell_type": "markdown",
   "id": "ff5a047b-c461-46cc-a887-bc95e965fc59",
   "metadata": {},
   "source": [
    "**CRIANDO NOVOS DATASETS**"
   ]
  },
  {
   "cell_type": "code",
   "execution_count": 12,
   "id": "0575577c-0156-4a5a-a948-f0d4d874171f",
   "metadata": {
    "tags": []
   },
   "outputs": [],
   "source": [
    "# Pegando lista de times que participam do campeonato\n",
    "lista_times = sorted(dados['mandante'].unique())"
   ]
  },
  {
   "cell_type": "code",
   "execution_count": 13,
   "id": "dbec15b1-ff1d-40f2-9878-c56e304c1fb3",
   "metadata": {
    "tags": []
   },
   "outputs": [],
   "source": [
    "# Criando dataframe para registrar dados de cada time como mandante\n",
    "dados_mandantes = pd.DataFrame()\n",
    "dados_mandantes.insert(0, 'time', lista_times)\n",
    "\n",
    "# Criando dataframe para registrar dados de cada time como visitante\n",
    "dados_visitantes = pd.DataFrame()\n",
    "dados_visitantes.insert(0, 'time', lista_times)"
   ]
  },
  {
   "cell_type": "code",
   "execution_count": 14,
   "id": "bb20c9d5-4ec4-4443-9118-1150fb8290c9",
   "metadata": {
    "tags": []
   },
   "outputs": [],
   "source": [
    "# Dataframe apenas com as partidas que terminaram com algum vencedor\n",
    "dados_sem_empate = dados[dados['vencedor']!='Empate']\n",
    "\n",
    "# Ddataframe apenas com os jogos que terminaram empatados\n",
    "dados_empates = dados[dados['vencedor'] == 'Empate']"
   ]
  },
  {
   "cell_type": "code",
   "execution_count": 15,
   "id": "49c8dc88-851b-4eb5-9208-b4953ce6fc72",
   "metadata": {
    "tags": []
   },
   "outputs": [],
   "source": [
    "# Tabela mandantes\n",
    "# Inserindo quantidade de jogos\n",
    "contagem_jogos = dados['mandante'].value_counts()\n",
    "dados_mandantes.insert(1, 'jogos', contagem_jogos[dados_mandantes['time']].values)\n",
    "\n",
    "# Inserindo quantidade de vitórias\n",
    "vitorias_casa = dados_sem_empate.query('vencedor == mandante')\n",
    "vitorias = vitorias_casa['vencedor'].value_counts().sort_index()\n",
    "dados_mandantes.insert(2, 'vitórias', vitorias.values)\n",
    "\n",
    "# Inserindo quantidade de derrotas\n",
    "derrotas_casa = dados_sem_empate.query('perdedor == mandante')\n",
    "derrotas = derrotas_casa['perdedor'].value_counts().sort_index()\n",
    "dados_mandantes.insert(3, 'derrotas', derrotas.values)\n",
    "\n",
    "# Inserindo quantidade de empates\n",
    "empates = dados_empates['mandante'].value_counts().sort_index()\n",
    "dados_mandantes.insert(3, 'empates', empates.values)"
   ]
  },
  {
   "cell_type": "code",
   "execution_count": 42,
   "id": "886fa171-af1a-435b-b440-02411cd8049d",
   "metadata": {},
   "outputs": [],
   "source": [
    "# Tabela visitantes\n",
    "# Inserindo quantidade de jogos\n",
    "contagem_jogos = dados['visitante'].value_counts()\n",
    "dados_visitantes.insert(1, 'jogos', contagem_jogos[dados_visitantes['time']].values)\n",
    "\n",
    "# Inserindo quantidade de vitórias\n",
    "vitorias_fora = dados_sem_empate.query('vencedor == visitante')\n",
    "vitorias = vitorias_fora['vencedor'].value_counts().sort_index()\n",
    "# Adicionando Ipatinga, único clube que nunca venceu fora de casa\n",
    "vitorias['Ipatinga'] = 0\n",
    "vitorias = vitorias.sort_index()\n",
    "dados_visitantes.insert(2, 'vitórias', vitorias.values)\n",
    "\n",
    "# Inserindo quantidade de derrotas\n",
    "derrotas_fora = dados_sem_empate.query('perdedor == visitante')\n",
    "derrotas = derrotas_fora['perdedor'].value_counts().sort_index()\n",
    "dados_visitantes.insert(3, 'derrotas', derrotas.values)\n",
    "\n",
    "# Inserindo quantidade de empates\n",
    "empates = dados_empates['visitante'].value_counts().sort_index()\n",
    "dados_visitantes.insert(3, 'empates', empates.values)"
   ]
  },
  {
   "cell_type": "code",
   "execution_count": 71,
   "id": "09d397d9-ee67-427e-8eb9-3620311f2e4c",
   "metadata": {
    "tags": []
   },
   "outputs": [],
   "source": [
    "# Tabela mandantes\n",
    "# Inserindo gols pró\n",
    "gols_mandante = dados[['mandante','mandante_placar']]\n",
    "gols_mandante = gols_mandante.groupby('mandante').sum().sort_index()\n",
    "dados_mandantes.insert(5, 'gols pró', gols_mandante.values)\n",
    "\n",
    "# Inserindo gols sofridos\n",
    "gols_mandante = dados[['mandante','visitante_placar']]\n",
    "gols_mandante = gols_mandante.groupby('mandante').sum().sort_index()\n",
    "dados_mandantes.insert(6, 'gols sofridos', gols_mandante.values)"
   ]
  },
  {
   "cell_type": "code",
   "execution_count": 72,
   "id": "4d3e35ac-d8b7-4e69-bb46-bbbb77aab077",
   "metadata": {
    "tags": []
   },
   "outputs": [],
   "source": [
    "# Tabela visitantes\n",
    "# Inserindo gols pró\n",
    "gols_visitante = dados[['visitante','visitante_placar']]\n",
    "gols_visitante = gols_visitante.groupby('visitante').sum().sort_index()\n",
    "dados_visitantes.insert(5, 'gols pró', gols_visitante.values)\n",
    "\n",
    "# Inserindo gols sofridos\n",
    "gols_visitante = dados[['visitante','mandante_placar']]\n",
    "gols_visitante = gols_visitante.groupby('visitante').sum().sort_index()\n",
    "dados_visitantes.insert(6, 'gols sofridos', gols_visitante.values)"
   ]
  },
  {
   "cell_type": "code",
   "execution_count": 94,
   "id": "4faaf756-22f3-4907-b78e-cab4a0e55608",
   "metadata": {
    "tags": []
   },
   "outputs": [],
   "source": [
    "# Armazenando quantidade de pontos\n",
    "pontos = dados_mandantes[['vitórias', 'empates']].apply(lambda series : series[0]*3 + series[1], axis=1)\n",
    "dados_mandantes.insert(2, 'pontos', pontos)\n",
    "\n",
    "pontos = dados_visitantes[['vitórias', 'empates']].apply(lambda series : series[0]*3 + series[1], axis=1)\n",
    "dados_visitantes.insert(2, 'pontos', pontos)"
   ]
  },
  {
   "cell_type": "code",
   "execution_count": 95,
   "id": "c8938099-8bc3-4148-943f-8c3671f5bea2",
   "metadata": {
    "tags": []
   },
   "outputs": [],
   "source": [
    "# Criando dataframe para armazenar dados dos times no geral\n",
    "dados_times = pd.concat([dados_mandantes, dados_visitantes], ignore_index=True)\n",
    "\n",
    "# Agrupar por time e somar as estatísticas\n",
    "dados_times = dados_times.groupby('time').sum().reset_index()"
   ]
  },
  {
   "cell_type": "code",
   "execution_count": 108,
   "id": "400f7a78-4590-4a0c-a36b-b2ae5ad0ae30",
   "metadata": {
    "tags": []
   },
   "outputs": [],
   "source": [
    "# Definindo função para retornar aproveitamento dos clubes\n",
    "def retornar_aproveitamento(series):\n",
    "    num_jogos = series[0]\n",
    "    pontos = series[1]\n",
    "    pontos_em_disputa = num_jogos * 3\n",
    "    return round(100 / pontos_em_disputa * pontos, 2) \n",
    "\n",
    "# Adicionando coluna com o aproveitamento das equipes\n",
    "aproveitamento = dados_mandantes[['jogos', 'pontos']].apply(retornar_aproveitamento, axis=1)\n",
    "dados_mandantes.insert(8, 'aproveitamento', aproveitamento)\n",
    "\n",
    "aproveitamento = dados_visitantes[['jogos', 'pontos']].apply(retornar_aproveitamento, axis=1)\n",
    "dados_visitantes.insert(8, 'aproveitamento', aproveitamento)\n",
    "\n",
    "aproveitamento = dados_times[['jogos', 'pontos']].apply(retornar_aproveitamento, axis=1)\n",
    "dados_times.insert(8, 'aproveitamento', aproveitamento)"
   ]
  },
  {
   "cell_type": "code",
   "execution_count": 113,
   "id": "8d7f4de0-c0f7-457a-8cce-98e4c544a0bb",
   "metadata": {
    "tags": []
   },
   "outputs": [],
   "source": [
    "# Definindo função para retornar saldo de gols\n",
    "def retornar_sg(series):\n",
    "    return series[0] - series[1]\n",
    "\n",
    "# Inserindo coluna com saldo de gols\n",
    "saldo = dados_mandantes[['gols pró', 'gols sofridos']].apply(retornar_sg, axis=1)\n",
    "dados_mandantes.insert(8, 'saldo de gols', saldo)\n",
    "\n",
    "saldo = dados_visitantes[['gols pró', 'gols sofridos']].apply(retornar_sg, axis=1)\n",
    "dados_visitantes.insert(8, 'saldo de gols', saldo)\n",
    "\n",
    "saldo = dados_times[['gols pró', 'gols sofridos']].apply(retornar_sg, axis=1)\n",
    "dados_times.insert(8, 'saldo de gols', saldo)"
   ]
  },
  {
   "cell_type": "markdown",
   "id": "15a36911-a6e9-47b9-b90a-893830c392ae",
   "metadata": {
    "tags": []
   },
   "source": [
    "**SALVANDO DATASETS MANIPULADOS**"
   ]
  },
  {
   "cell_type": "code",
   "execution_count": 117,
   "id": "e4df355d-6d3f-40ec-ae20-ed73a9335aa4",
   "metadata": {
    "tags": []
   },
   "outputs": [],
   "source": [
    "# Alterando índices para o nome dos times\n",
    "dados_mandantes.set_index('time', inplace=True)\n",
    "dados_visitantes.set_index('time', inplace=True)\n",
    "dados_times.set_index('time', inplace=True)"
   ]
  },
  {
   "cell_type": "code",
   "execution_count": 118,
   "id": "e6278cf6-8a76-4f28-8ce9-a7e7972ad36b",
   "metadata": {
    "tags": []
   },
   "outputs": [],
   "source": [
    "dados_mandantes.to_csv('C:/Users/User/ciencia-dados/analisando-brasileirao\\datasets\\dados-mandantes-campeonato-brasileiro.csv', index=False)\n",
    "dados_visitantes.to_csv('C:/Users/User/ciencia-dados/analisando-brasileirao\\datasets\\dados-visitantes-campeonato-brasileiro.csv', index=False)\n",
    "dados_times.to_csv('C:/Users/User/ciencia-dados/analisando-brasileirao\\datasets\\dados-times-full-campeonato-brasileiro.csv', index=False)"
   ]
  },
  {
   "cell_type": "markdown",
   "id": "a1b03dcc-a377-408e-9fae-5c4f8b540757",
   "metadata": {},
   "source": [
    "**ANÁLISE**"
   ]
  },
  {
   "cell_type": "code",
   "execution_count": 217,
   "id": "771b831d-f19a-4316-bef9-9e02afa96893",
   "metadata": {
    "tags": []
   },
   "outputs": [
    {
     "data": {
      "text/plain": [
       "time\n",
       "America-RN         38\n",
       "Barueri            38\n",
       "Brasiliense        42\n",
       "CSA                38\n",
       "Gremio Prudente    38\n",
       "Ipatinga           38\n",
       "Joinville          38\n",
       "Santo Andre        38\n",
       "Name: jogos, dtype: int64"
      ]
     },
     "execution_count": 217,
     "metadata": {},
     "output_type": "execute_result"
    }
   ],
   "source": [
    "# Verificando clubes que participaram apenas uma vez do Brasileirão por pontos corridos\n",
    "dados_times['jogos'][dados_times['jogos'] <= 42]"
   ]
  },
  {
   "cell_type": "code",
   "execution_count": 245,
   "id": "c1f42dbc-6299-4aba-9fdb-d32c7ad6bdae",
   "metadata": {
    "tags": []
   },
   "outputs": [
    {
     "data": {
      "text/plain": [
       "time\n",
       "Sao Paulo        365\n",
       "Flamengo         354\n",
       "Santos           340\n",
       "Internacional    339\n",
       "Palmeiras        329\n",
       "Atletico-MG      327\n",
       "Corinthians      326\n",
       "Fluminense       322\n",
       "Gremio           316\n",
       "Athletico-PR     309\n",
       "Name: vitórias, dtype: int64"
      ]
     },
     "execution_count": 245,
     "metadata": {},
     "output_type": "execute_result"
    }
   ],
   "source": [
    "# Verificando clubes que mais venceram no campeonato\n",
    "mais_vitorias = dados_times['vitórias'].sort_values(ascending=False)\n",
    "mais_vitorias.head(10)"
   ]
  },
  {
   "cell_type": "code",
   "execution_count": 246,
   "id": "b868831c-2b97-471e-96f3-30274f3e9019",
   "metadata": {
    "tags": []
   },
   "outputs": [
    {
     "data": {
      "image/png": "[encoded data removed]",
      "text/plain": [
       "<Figure size 640x480 with 1 Axes>"
      ]
     },
     "metadata": {},
     "output_type": "display_data"
    }
   ],
   "source": [
    "# Gráfico dos clubes com mais vitórias\n",
    "mais_vitorias = mais_vitorias.sort_values().tail(15)\n",
    "plt.barh(mais_vitorias.index, mais_vitorias.values, alpha=0.5)\n",
    "plt.title(\"Clubes com mais vitórias\", weight='bold')\n",
    "plt.show()"
   ]
  },
  {
   "cell_type": "code",
   "execution_count": 247,
   "id": "a048f477-eab1-4dd6-b79e-ed4a8080788d",
   "metadata": {
    "tags": []
   },
   "outputs": [
    {
     "data": {
      "text/plain": [
       "time\n",
       "Fluminense       283\n",
       "Athletico-PR     282\n",
       "Santos           261\n",
       "Botafogo-RJ      259\n",
       "Atletico-MG      253\n",
       "Coritiba         250\n",
       "Flamengo         243\n",
       "Goias            239\n",
       "Internacional    239\n",
       "Gremio           237\n",
       "Name: derrotas, dtype: int64"
      ]
     },
     "execution_count": 247,
     "metadata": {},
     "output_type": "execute_result"
    }
   ],
   "source": [
    "# Verificando clubes que mais perderam no campeonato\n",
    "mais_derrotas = dados_times['derrotas'].sort_values(ascending=False)\n",
    "mais_derrotas.head(10)"
   ]
  },
  {
   "cell_type": "code",
   "execution_count": 248,
   "id": "20c19197-9e93-4fef-b064-7e9a96257f76",
   "metadata": {
    "tags": []
   },
   "outputs": [
    {
     "data": {
      "text/plain": [
       "time\n",
       "Sao Paulo        229\n",
       "Corinthians      229\n",
       "Flamengo         221\n",
       "Santos           217\n",
       "Fluminense       213\n",
       "Internacional    202\n",
       "Atletico-MG      199\n",
       "Botafogo-RJ      190\n",
       "Palmeiras        190\n",
       "Athletico-PR     189\n",
       "Name: empates, dtype: int64"
      ]
     },
     "execution_count": 248,
     "metadata": {},
     "output_type": "execute_result"
    }
   ],
   "source": [
    "# Verificando clubes que mais empataram no campeonato\n",
    "mais_empates = dados_times['empates'].sort_values(ascending=False)\n",
    "mais_empates.head(10)"
   ]
  },
  {
   "cell_type": "code",
   "execution_count": 257,
   "id": "995a12ae-e16a-4c47-9c33-6804a037bc7c",
   "metadata": {
    "tags": []
   },
   "outputs": [
    {
     "data": {
      "text/plain": [
       "time\n",
       "Sao Paulo        53.95\n",
       "Palmeiras        53.45\n",
       "Flamengo         52.28\n",
       "Internacional    52.09\n",
       "Corinthians      51.58\n",
       "Gremio           51.17\n",
       "Cruzeiro         50.99\n",
       "Atletico-MG      50.49\n",
       "Santos           50.41\n",
       "Fluminense       48.04\n",
       "Name: aproveitamento, dtype: float64"
      ]
     },
     "execution_count": 257,
     "metadata": {},
     "output_type": "execute_result"
    }
   ],
   "source": [
    "# Verificando clubes com melhores aproveitamentos\n",
    "melhores_aproveitamentos = dados_times['aproveitamento'].sort_values(ascending=False)\n",
    "melhores_aproveitamentos.head(10)"
   ]
  },
  {
   "cell_type": "code",
   "execution_count": 261,
   "id": "69395c99-497c-4eca-9d1c-fce84786a817",
   "metadata": {
    "tags": []
   },
   "outputs": [
    {
     "data": {
      "text/plain": [
       "time\n",
       "Chapecoense        45.71\n",
       "Cuiaba             45.03\n",
       "Avai               44.36\n",
       "Joinville          43.86\n",
       "Atletico-GO        42.61\n",
       "CSA                40.35\n",
       "Brasiliense        39.68\n",
       "Santa Cruz         39.47\n",
       "Gremio Prudente    35.09\n",
       "America-RN         15.79\n",
       "Name: aproveitamento, dtype: float64"
      ]
     },
     "execution_count": 261,
     "metadata": {},
     "output_type": "execute_result"
    }
   ],
   "source": [
    "# Verificando clubes com piores aproveitamentos\n",
    "melhores_aproveitamentos.tail(10)"
   ]
  },
  {
   "cell_type": "code",
   "execution_count": 259,
   "id": "add6b7a9-1bcc-4f57-97f9-1d61075a6619",
   "metadata": {
    "tags": []
   },
   "outputs": [
    {
     "data": {
      "text/plain": [
       "time\n",
       "Gremio           66.76\n",
       "Internacional    66.67\n",
       "Sao Paulo        66.26\n",
       "Athletico-PR     65.38\n",
       "Palmeiras        64.94\n",
       "Barueri          64.91\n",
       "Santos           64.87\n",
       "Corinthians      63.42\n",
       "Flamengo         63.40\n",
       "Atletico-MG      62.99\n",
       "Name: aproveitamento, dtype: float64"
      ]
     },
     "execution_count": 259,
     "metadata": {},
     "output_type": "execute_result"
    }
   ],
   "source": [
    "# Verificando aproveitamentos dos mandantes\n",
    "melhores_aproveitamentos = dados_mandantes['aproveitamento'].sort_values(ascending=False)\n",
    "melhores_aproveitamentos.head(10)"
   ]
  },
  {
   "cell_type": "code",
   "execution_count": 263,
   "id": "520994ad-7a0c-4609-8732-f46a23b76342",
   "metadata": {
    "tags": []
   },
   "outputs": [
    {
     "data": {
      "text/plain": [
       "time\n",
       "Palmeiras        41.96\n",
       "Sao Paulo        41.65\n",
       "Flamengo         41.22\n",
       "Cruzeiro         40.34\n",
       "Corinthians      39.74\n",
       "Atletico-MG      37.96\n",
       "Internacional    37.52\n",
       "Fluminense       36.92\n",
       "Bragantino       36.40\n",
       "Cuiaba           36.26\n",
       "Name: aproveitamento, dtype: float64"
      ]
     },
     "execution_count": 263,
     "metadata": {},
     "output_type": "execute_result"
    }
   ],
   "source": [
    "# Verificando aproveitamentos dos visitantes\n",
    "melhores_aproveitamentos = dados_visitantes['aproveitamento'].sort_values(ascending=False)\n",
    "melhores_aproveitamentos.head(10)"
   ]
  },
  {
   "cell_type": "code",
   "execution_count": 264,
   "id": "8529fd6a-9fbb-4840-b3bc-5e8b24e0b253",
   "metadata": {
    "tags": []
   },
   "outputs": [
    {
     "data": {
      "text/plain": [
       "time\n",
       "Chapecoense        45.71\n",
       "Cuiaba             45.03\n",
       "Avai               44.36\n",
       "Joinville          43.86\n",
       "Atletico-GO        42.61\n",
       "CSA                40.35\n",
       "Brasiliense        39.68\n",
       "Santa Cruz         39.47\n",
       "Gremio Prudente    35.09\n",
       "America-RN         15.79\n",
       "Name: aproveitamento, dtype: float64"
      ]
     },
     "execution_count": 264,
     "metadata": {},
     "output_type": "execute_result"
    }
   ],
   "source": [
    "# Verificando piores aproveitamentos como mandante\n",
    "melhores_aproveitamentos = dados_mandantes['aproveitamento'].sort_values(ascending=False)\n",
    "melhores_aproveitamentos.tail(10)"
   ]
  }
 ],
 "metadata": {
  "kernelspec": {
   "display_name": "Python 3 (ipykernel)",
   "language": "python",
   "name": "python3"
  },
  "language_info": {
   "codemirror_mode": {
    "name": "ipython",
    "version": 3
   },
   "file_extension": ".py",
   "mimetype": "text/x-python",
   "name": "python",
   "nbconvert_exporter": "python",
   "pygments_lexer": "ipython3",
   "version": "3.11.5"
  }
 },
 "nbformat": 4,
 "nbformat_minor": 5
}
